{
  "cells": [
    {
      "cell_type": "markdown",
      "metadata": {
        "id": "view-in-github",
        "colab_type": "text"
      },
      "source": [
        "<a href=\"https://colab.research.google.com/github/dhruvprabhu/Tweet-Support-Classification/blob/main/BTP.ipynb\" target=\"_parent\"><img src=\"https://colab.research.google.com/assets/colab-badge.svg\" alt=\"Open In Colab\"/></a>"
      ]
    },
    {
      "cell_type": "markdown",
      "metadata": {
        "id": "JPjJgNOILtYA"
      },
      "source": [
        "# Importing libraries\n"
      ]
    },
    {
      "cell_type": "code",
      "execution_count": null,
      "metadata": {
        "id": "ELCWcZzlEgos"
      },
      "outputs": [],
      "source": [
        "from google.colab import drive\n",
        "drive.mount('/content/drive')"
      ]
    },
    {
      "cell_type": "code",
      "execution_count": null,
      "metadata": {
        "id": "JQ3j9Hu4Pp5v",
        "colab": {
          "base_uri": "https://localhost:8080/"
        },
        "outputId": "f2aa4f98-a619-43e8-878e-0a4a03a39e10"
      },
      "outputs": [
        {
          "output_type": "stream",
          "name": "stdout",
          "text": [
            "Collecting emoji\n",
            "  Downloading emoji-2.11.0-py2.py3-none-any.whl (433 kB)\n",
            "\u001b[?25l     \u001b[90m━━━━━━━━━━━━━━━━━━━━━━━━━━━━━━━━━━━━━━━━\u001b[0m \u001b[32m0.0/433.8 kB\u001b[0m \u001b[31m?\u001b[0m eta \u001b[36m-:--:--\u001b[0m\r\u001b[2K     \u001b[91m━━━━━━━━━━━━━━━━━━━━━━━\u001b[0m\u001b[91m╸\u001b[0m\u001b[90m━━━━━━━━━━━━━━━━\u001b[0m \u001b[32m256.0/433.8 kB\u001b[0m \u001b[31m7.6 MB/s\u001b[0m eta \u001b[36m0:00:01\u001b[0m\r\u001b[2K     \u001b[90m━━━━━━━━━━━━━━━━━━━━━━━━━━━━━━━━━━━━━━━━\u001b[0m \u001b[32m433.8/433.8 kB\u001b[0m \u001b[31m8.4 MB/s\u001b[0m eta \u001b[36m0:00:00\u001b[0m\n",
            "\u001b[?25hInstalling collected packages: emoji\n",
            "Successfully installed emoji-2.11.0\n",
            "Collecting wordninja\n",
            "  Downloading wordninja-2.0.0.tar.gz (541 kB)\n",
            "\u001b[2K     \u001b[90m━━━━━━━━━━━━━━━━━━━━━━━━━━━━━━━━━━━━━━━━\u001b[0m \u001b[32m541.6/541.6 kB\u001b[0m \u001b[31m8.2 MB/s\u001b[0m eta \u001b[36m0:00:00\u001b[0m\n",
            "\u001b[?25h  Preparing metadata (setup.py) ... \u001b[?25l\u001b[?25hdone\n",
            "Building wheels for collected packages: wordninja\n",
            "  Building wheel for wordninja (setup.py) ... \u001b[?25l\u001b[?25hdone\n",
            "  Created wheel for wordninja: filename=wordninja-2.0.0-py3-none-any.whl size=541530 sha256=09b71094387da7b75fda146b2a4705123651034cfe2facc35d16f865303aa43a\n",
            "  Stored in directory: /root/.cache/pip/wheels/aa/44/3a/f2a5c1859b8b541ded969b4cd12d0a58897f12408f4f51e084\n",
            "Successfully built wordninja\n",
            "Installing collected packages: wordninja\n",
            "Successfully installed wordninja-2.0.0\n"
          ]
        }
      ],
      "source": [
        "!pip install emoji\n",
        "!pip install wordninja"
      ]
    },
    {
      "cell_type": "code",
      "execution_count": null,
      "metadata": {
        "id": "BmJIHCg_L5Ni"
      },
      "outputs": [],
      "source": [
        "import pandas as pd\n",
        "import random as rd\n",
        "import re\n",
        "import emoji\n",
        "import math\n",
        "import string\n",
        "import numpy as np\n",
        "import wordninja\n",
        "from gensim.models import KeyedVectors\n",
        "from tensorflow.keras.preprocessing.text import Tokenizer\n",
        "from tensorflow.keras.preprocessing.sequence import pad_sequences\n",
        "\n",
        "df= pd.read_csv('/content/drive/MyDrive/Deep Learning/annotations - Final_Dataset.csv')\n",
        "df = df[df['Reply_Class'] != 'Lang']"
      ]
    },
    {
      "cell_type": "markdown",
      "metadata": {
        "id": "glQKCgfDN0Wb"
      },
      "source": [
        "# Preprocessing\n"
      ]
    },
    {
      "cell_type": "code",
      "source": [
        "\n",
        "def pre_process_tweet(tweet):\n",
        "    # Remove \\n from the end of the sentence\n",
        "    tweet = tweet.strip('\\n')\n",
        "\n",
        "    # Convert emojis to their descriptions\n",
        "    tweet = emoji.demojize(tweet)\n",
        "    # Add spaces between emoji descriptions\n",
        "    tweet = re.sub(r'(:\\w+:)', lambda x: x.group(0).replace(':', ' '), tweet)\n",
        "\n",
        "    # Remove any URL\n",
        "    tweet = re.sub(r\"http\\S+\", \"\", tweet)\n",
        "    tweet = re.sub(r\"www\\S+\", \"\", tweet)\n",
        "\n",
        "    # Convert underscore-separated words to space-separated words\n",
        "    tweet = re.sub(r'_', ' ', tweet)\n",
        "\n",
        "    # Convert dash-separated words to space-separated words\n",
        "    tweet = re.sub(r'-', ' ', tweet)\n",
        "\n",
        "    # Replace &amp with 'and'\n",
        "    tweet = tweet.replace('&amp','and')\n",
        "    tweet = tweet.replace('&AMP','and')\n",
        "\n",
        "    # Replace U.S. with 'usa'\n",
        "    tweet = tweet.replace('U.S.', 'usa')\n",
        "    tweet = tweet.replace('US','usa')\n",
        "    # Remove colons from the end of the sentences (if any)\n",
        "    tweet = tweet.strip()\n",
        "    if tweet.endswith(':'):\n",
        "        tweet = tweet[:-1]\n",
        "\n",
        "    # Split tweet into words\n",
        "    # words = tweet.split()\n",
        "\n",
        "    # # Iterate over words and replace hashtag words\n",
        "    # for i, word in enumerate(words):\n",
        "    #     if word.startswith('#'):\n",
        "    #         words[i] = separate_hashtag_words(word)\n",
        "\n",
        "    # tweet = ' '.join(words)\n",
        "    # tweet = re.sub(r'#\\w+', lambda x: separate_hashtag_words(x.group()), tweet)\n",
        "    # Remove hash-tags symbols and add spaces between words\n",
        "    # tweet = re.sub(r'#(\\w+)', r' \\1', tweet)\n",
        "\n",
        "    # Convert every word to lowercase\n",
        "    tweet = tweet.lower()\n",
        "\n",
        "\n",
        "    tweet = tweet.replace('#', '')\n",
        "    # Remove punctuations\n",
        "    tweet = tweet.translate(str.maketrans('', '', string.punctuation))\n",
        "\n",
        "    # Trim extra spaces\n",
        "    tweet = \" \".join(tweet.split())\n",
        "\n",
        "    return tweet\n",
        "\n",
        "# Example usage:\n",
        "tweet = \"#sanctionpakistan\"\n",
        "processed_tweet = pre_process_tweet(tweet)\n",
        "print(processed_tweet)\n",
        "tweet = \"😙😚Here is an 'example' tweet! @user #example PM's us US  #sanctionpakistan http://example.com  😂💀💀do a lot !!\"\n",
        "processed_tweet = pre_process_tweet(tweet)\n",
        "print(processed_tweet)\n",
        "\n"
      ],
      "metadata": {
        "colab": {
          "base_uri": "https://localhost:8080/"
        },
        "id": "nSNgWjo5qQWn",
        "outputId": "1819920d-8d6a-481b-da55-073732f2a37d"
      },
      "execution_count": null,
      "outputs": [
        {
          "output_type": "stream",
          "name": "stdout",
          "text": [
            "sanctionpakistan\n",
            "kissing face with smiling eyes kissing face with closed eyes here is an example tweet user example pms us usa sanctionpakistan face with tears of joy skull skull do a lot\n"
          ]
        }
      ]
    },
    {
      "cell_type": "code",
      "execution_count": null,
      "metadata": {
        "id": "zTO-gr9ZD1qW"
      },
      "outputs": [],
      "source": [
        "df['Text'] = df['Text'].apply(pre_process_tweet)\n",
        "df['Reply'] = df['Reply'].apply(pre_process_tweet)"
      ]
    },
    {
      "cell_type": "code",
      "source": [
        "# Used to seperate words\n",
        "df['Text'] = df['Text'].apply(lambda x: ' '.join(wordninja.split(x)))\n",
        "df['Reply'] = df['Reply'].apply(lambda x: ' '.join(wordninja.split(x)))"
      ],
      "metadata": {
        "id": "OB9h0QgKyQM3"
      },
      "execution_count": null,
      "outputs": []
    },
    {
      "cell_type": "code",
      "execution_count": null,
      "metadata": {
        "colab": {
          "base_uri": "https://localhost:8080/"
        },
        "id": "OOPa-rPUXuO2",
        "outputId": "7adba1bb-b0f3-439a-ebfe-825320c32960"
      },
      "outputs": [
        {
          "output_type": "stream",
          "name": "stdout",
          "text": [
            "sanction pakistan united nations united nations high commissioner for human rights united nations general assembly international court of justice international courts\n"
          ]
        }
      ],
      "source": [
        "print(df['Reply'][11])"
      ]
    },
    {
      "cell_type": "markdown",
      "metadata": {
        "id": "F1xxFtsvD8rn"
      },
      "source": [
        "# Tokenization and Padding\n"
      ]
    },
    {
      "cell_type": "code",
      "execution_count": null,
      "metadata": {
        "id": "7UAyJejiEICN"
      },
      "outputs": [],
      "source": [
        "# Tokenization and Padding\n",
        "tokenizer = Tokenizer()\n",
        "tokenizer.fit_on_texts(df['Text'] + df['Reply'])\n",
        "\n",
        "max_sequence_length = 60\n",
        "\n",
        "sequences_text = tokenizer.texts_to_sequences(df['Text'])\n",
        "sequences_reply = tokenizer.texts_to_sequences(df['Reply'])\n",
        "\n",
        "padded_sequences_text = pad_sequences(sequences_text, maxlen=max_sequence_length, padding='post')\n",
        "padded_sequences_reply = pad_sequences(sequences_reply, maxlen=max_sequence_length, padding='post')\n",
        "\n",
        "\n",
        "\n",
        "reply_tokens = [tokenizer.index_word.get(token, '') for token in padded_sequences_reply[11]]\n",
        "print(\"Reply tokens:\", reply_tokens)\n",
        "print(padded_sequences_reply[11])"
      ]
    },
    {
      "cell_type": "markdown",
      "metadata": {
        "id": "BTTeO-iUEKM5"
      },
      "source": [
        "# Glove dictionary creation"
      ]
    },
    {
      "cell_type": "code",
      "execution_count": null,
      "metadata": {
        "id": "TKYZ3S4pEO5k"
      },
      "outputs": [],
      "source": [
        "\n",
        "words = dict()\n",
        "\n",
        "def add_to_dict(d, filename):\n",
        "  with open(filename, 'r') as f:\n",
        "    for line in f.readlines():\n",
        "      line = line.split(' ')\n",
        "\n",
        "      try:\n",
        "        d[line[0]] = np.array(line[1:], dtype=float)\n",
        "      except:\n",
        "        continue\n",
        "\n",
        "add_to_dict(words, '/content/drive/MyDrive/Deep Learning/glove.twitter.27B.50d.txt')\n",
        "words"
      ]
    },
    {
      "cell_type": "markdown",
      "metadata": {
        "id": "CiSwk_97ESin"
      },
      "source": [
        "#Create Embeddings"
      ]
    },
    {
      "cell_type": "code",
      "execution_count": null,
      "metadata": {
        "id": "7bkDrxnQHi9A",
        "colab": {
          "base_uri": "https://localhost:8080/"
        },
        "outputId": "80a48154-46c7-4b14-b520-f3695fa85e9f"
      },
      "outputs": [
        {
          "output_type": "stream",
          "name": "stdout",
          "text": [
            "(2864, 60, 50)\n",
            "(2864, 60, 50)\n"
          ]
        }
      ],
      "source": [
        "\n",
        "\n",
        "# Function to get embeddings for sequences\n",
        "def get_embeddings(sequences, word_dict):\n",
        "    embedding_dim = 50\n",
        "    # embedding_dim = len(next(iter(word_dict.values())))  # Dimension of GloVe embeddings\n",
        "    num_words = len(tokenizer.word_index) + 1  # Adding 1 for padding token (index 0)\n",
        "\n",
        "    # Initialize embeddings matrix\n",
        "    embeddings_matrix = np.zeros((len(sequences), max_sequence_length, embedding_dim))\n",
        "\n",
        "    # Iterate over sequences\n",
        "    for i, seq in enumerate(sequences):\n",
        "        # Iterate over tokens in each sequence\n",
        "        for j, token_index in enumerate(seq):\n",
        "            if token_index != 0:  # Skip padding token\n",
        "                word = tokenizer.index_word.get(token_index)\n",
        "                if word in word_dict:\n",
        "                    embeddings_matrix[i, j, :] = word_dict[word]\n",
        "                else:\n",
        "                    # If word not in GloVe dictionary, use zero vector\n",
        "                    embeddings_matrix[i, j, :] = np.zeros(embedding_dim)\n",
        "\n",
        "    return embeddings_matrix\n",
        "\n",
        "# Get embeddings for padded_sequences_text and padded_sequences_reply\n",
        "embeddings_text = get_embeddings(padded_sequences_text, words)\n",
        "embeddings_reply = get_embeddings(padded_sequences_reply, words)\n",
        "\n",
        "# Print the shape of embeddings for verification\n",
        "# print(\"Shape of embeddings_text:\", embeddings_text.shape)\n",
        "# print(\"Shape of embeddings_reply:\", embeddings_reply.shape)\n",
        "\n",
        "print(embeddings_reply.shape)\n",
        "print(embeddings_text.shape)"
      ]
    },
    {
      "cell_type": "markdown",
      "metadata": {
        "id": "1mFxr3g6ABY_"
      },
      "source": [
        "# CREATION OF TRAIN, TEST, VAL"
      ]
    },
    {
      "cell_type": "code",
      "source": [
        "y=df['Reply_Class']"
      ],
      "metadata": {
        "id": "qBiy84g2Zywd"
      },
      "execution_count": null,
      "outputs": []
    },
    {
      "cell_type": "code",
      "execution_count": null,
      "metadata": {
        "id": "Nxz6YuygAI9B",
        "colab": {
          "base_uri": "https://localhost:8080/"
        },
        "outputId": "bbda9e45-3e84-4713-d162-4194cacf03f9"
      },
      "outputs": [
        {
          "output_type": "stream",
          "name": "stdout",
          "text": [
            "X_train_text shape: (2291, 60, 50)\n",
            "X_val_text shape: (286, 60, 50)\n",
            "X_test_text shape: (287, 60, 50)\n",
            "X_train_reply shape: (2291, 60, 50)\n",
            "X_val_reply shape: (286, 60, 50)\n",
            "X_test_reply shape: (287, 60, 50)\n",
            "y_train shape: (2291,)\n",
            "y_val shape: (286,)\n",
            "y_test shape: (287,)\n"
          ]
        }
      ],
      "source": [
        "\n",
        "import numpy as np\n",
        "from sklearn.model_selection import train_test_split\n",
        "\n",
        "# Assuming you have your data stored in embeddings_text and embeddings_reply arrays\n",
        "# Split the data into training (80%), validation (10%), and test (10%) sets\n",
        "# X_train_text, X_temp_text = train_test_split(embeddings_text, test_size=0.2, random_state=42)\n",
        "# X_val_text, X_test_text = train_test_split(X_temp_text, test_size=0.5, random_state=42)\n",
        "\n",
        "# X_train_reply, X_temp_reply = train_test_split(embeddings_reply, test_size=0.2, random_state=42)\n",
        "# X_val_reply, X_test_reply = train_test_split(X_temp_reply, test_size=0.5, random_state=42)\n",
        "\n",
        "# # Assuming you have labels stored in a variable y\n",
        "# # Split the labels accordingly\n",
        "# y_train, y_temp = train_test_split(y, test_size=0.2, random_state=42)\n",
        "# y_val, y_test = train_test_split(y_temp, test_size=0.5, random_state=42)\n",
        "\n",
        "# Split indices of the embeddings arrays\n",
        "indices = range(len(embeddings_text))\n",
        "train_indices, temp_indices = train_test_split(indices, test_size=0.2, random_state=42)\n",
        "val_indices, test_indices = train_test_split(temp_indices, test_size=0.5, random_state=42)\n",
        "\n",
        "# Use the split indices to extract the corresponding rows from embeddings_text and embeddings_reply\n",
        "X_train_text = embeddings_text[train_indices]\n",
        "X_val_text = embeddings_text[val_indices]\n",
        "X_test_text = embeddings_text[test_indices]\n",
        "\n",
        "X_train_reply = embeddings_reply[train_indices]\n",
        "X_val_reply = embeddings_reply[val_indices]\n",
        "X_test_reply = embeddings_reply[test_indices]\n",
        "\n",
        "# Use the split indices to extract the corresponding labels\n",
        "y_train = y.iloc[train_indices]\n",
        "y_val = y.iloc[val_indices]\n",
        "y_test = y.iloc[test_indices]\n",
        "# Convert the arrays to numpy arrays\n",
        "X_train_text = np.array(X_train_text)\n",
        "X_val_text = np.array(X_val_text)\n",
        "X_test_text = np.array(X_test_text)\n",
        "\n",
        "X_train_reply = np.array(X_train_reply)\n",
        "X_val_reply = np.array(X_val_reply)\n",
        "X_test_reply = np.array(X_test_reply)\n",
        "\n",
        "y_train = np.array(y_train)\n",
        "y_val = np.array(y_val)\n",
        "y_test = np.array(y_test)\n",
        "\n",
        "# Print the shapes to verify\n",
        "print(\"X_train_text shape:\", X_train_text.shape)\n",
        "print(\"X_val_text shape:\", X_val_text.shape)\n",
        "print(\"X_test_text shape:\", X_test_text.shape)\n",
        "print(\"X_train_reply shape:\", X_train_reply.shape)\n",
        "print(\"X_val_reply shape:\", X_val_reply.shape)\n",
        "print(\"X_test_reply shape:\", X_test_reply.shape)\n",
        "print(\"y_train shape:\", y_train.shape)\n",
        "print(\"y_val shape:\", y_val.shape)\n",
        "print(\"y_test shape:\", y_test.shape)\n",
        "\n",
        "\n"
      ]
    },
    {
      "cell_type": "markdown",
      "metadata": {
        "id": "ouM0ftSF_95Q"
      },
      "source": [
        "#LSTM MODEL"
      ]
    },
    {
      "cell_type": "code",
      "source": [
        "from tensorflow.keras.models import Model\n",
        "from tensorflow.keras.layers import LSTM, Dense, Concatenate, Flatten, Input, Dropout, BatchNormalization\n",
        "import tensorflow as tf\n",
        "from keras.models import Model\n",
        "from sklearn.preprocessing import LabelEncoder\n",
        "from keras.optimizers import Adam\n",
        "from keras.callbacks import ModelCheckpoint\n",
        "import keras"
      ],
      "metadata": {
        "id": "wNXiPpgQ89Yk"
      },
      "execution_count": null,
      "outputs": []
    },
    {
      "cell_type": "code",
      "source": [
        "def build_model(input_shape):\n",
        "    # Input layers for tweet and reply text embeddings\n",
        "    tweet_input = Input(shape=input_shape)\n",
        "    reply_input = Input(shape=input_shape)\n",
        "\n",
        "    # LSTM layers for tweet and reply sequences\n",
        "    lstm_tweet = LSTM(64, dropout=0.4)(tweet_input)\n",
        "    lstm_reply = LSTM(64, dropout=0.4)(reply_input)\n",
        "\n",
        "    # Concatenate LSTM outputs\n",
        "    concatenated = Concatenate()([lstm_tweet, lstm_reply])\n",
        "\n",
        "    # Flatten the concatenated output\n",
        "\n",
        "    # Dense layers for classification with dropout\n",
        "    dense1 = Dense(64, activation='relu')(concatenated)\n",
        "    dense1_dropout = Dropout(0.4)(dense1)\n",
        "\n",
        "    # Output layer\n",
        "    output = Dense(3, activation='softmax')(dense1_dropout)  # 3 classes: positive, negative, neutral\n",
        "\n",
        "    # Build and compile the model\n",
        "    model = Model(inputs=[tweet_input, reply_input], outputs=output)\n",
        "    model.compile(optimizer='adam', loss='sparse_categorical_crossentropy', metrics=['accuracy'])\n",
        "\n",
        "    return model\n",
        "\n"
      ],
      "metadata": {
        "id": "dhpECF3BQapa"
      },
      "execution_count": null,
      "outputs": []
    },
    {
      "cell_type": "code",
      "source": [
        "\n",
        "\n",
        "\n",
        "# Define the filepath to save the best model in Google Drive\n",
        "checkpoint_filepath = '/content/drive/MyDrive/Deep Learning/type_1.h5'\n",
        "\n",
        "# Define the ModelCheckpoint callback to save the best model\n",
        "checkpoint = ModelCheckpoint(filepath=checkpoint_filepath,\n",
        "                             monitor='val_accuracy',\n",
        "                             mode='max',\n",
        "                             save_best_only=True,\n",
        "                             save_weights_only=False,\n",
        "                             verbose=1)\n",
        "\n",
        "# Assuming input_shape is the shape of the embeddings, e.g., (embedding_length, embedding_dimension)\n",
        "input_shape = (60, 50)  # Example shape\n",
        "\n",
        "# Convert string labels to integer labels using LabelEncoder\n",
        "label_encoder = LabelEncoder()\n",
        "y_train_encoded = label_encoder.fit_transform(y_train)\n",
        "y_val_encoded = label_encoder.transform(y_val)\n",
        "y_test_encoded = label_encoder.transform(y_test)\n",
        "\n",
        "# Define the model\n",
        "model = build_model(input_shape)\n",
        "model.summary()\n"
      ],
      "metadata": {
        "id": "znuYgQDNUmzH",
        "colab": {
          "base_uri": "https://localhost:8080/"
        },
        "outputId": "79ea941f-2c0b-4cae-91c0-be20893f68ee"
      },
      "execution_count": null,
      "outputs": [
        {
          "output_type": "stream",
          "name": "stdout",
          "text": [
            "Model: \"model_9\"\n",
            "__________________________________________________________________________________________________\n",
            " Layer (type)                Output Shape                 Param #   Connected to                  \n",
            "==================================================================================================\n",
            " input_19 (InputLayer)       [(None, 60, 50)]             0         []                            \n",
            "                                                                                                  \n",
            " input_20 (InputLayer)       [(None, 60, 50)]             0         []                            \n",
            "                                                                                                  \n",
            " lstm_18 (LSTM)              (None, 64)                   29440     ['input_19[0][0]']            \n",
            "                                                                                                  \n",
            " lstm_19 (LSTM)              (None, 64)                   29440     ['input_20[0][0]']            \n",
            "                                                                                                  \n",
            " concatenate_9 (Concatenate  (None, 128)                  0         ['lstm_18[0][0]',             \n",
            " )                                                                   'lstm_19[0][0]']             \n",
            "                                                                                                  \n",
            " dense_26 (Dense)            (None, 64)                   8256      ['concatenate_9[0][0]']       \n",
            "                                                                                                  \n",
            " dropout_16 (Dropout)        (None, 64)                   0         ['dense_26[0][0]']            \n",
            "                                                                                                  \n",
            " dense_27 (Dense)            (None, 3)                    195       ['dropout_16[0][0]']          \n",
            "                                                                                                  \n",
            "==================================================================================================\n",
            "Total params: 67331 (263.01 KB)\n",
            "Trainable params: 67331 (263.01 KB)\n",
            "Non-trainable params: 0 (0.00 Byte)\n",
            "__________________________________________________________________________________________________\n"
          ]
        }
      ]
    },
    {
      "cell_type": "code",
      "source": [
        "import matplotlib.pyplot as plt\n",
        "\n",
        "def plot_training(history):\n",
        "    # Plot training & validation accuracy values\n",
        "    plt.plot(history.history['accuracy'])\n",
        "    plt.plot(history.history['val_accuracy'])\n",
        "    plt.title('Model accuracy')\n",
        "    plt.ylabel('Accuracy')\n",
        "    plt.xlabel('Epoch')\n",
        "    plt.legend(['Train', 'Validation'], loc='upper left')\n",
        "    plt.show()\n",
        "\n",
        "    # Plot training & validation loss values\n",
        "    plt.plot(history.history['loss'])\n",
        "    plt.plot(history.history['val_loss'])\n",
        "    plt.title('Model loss')\n",
        "    plt.ylabel('Loss')\n",
        "    plt.xlabel('Epoch')\n",
        "    plt.legend(['Train', 'Validation'], loc='upper left')\n",
        "    plt.show()\n"
      ],
      "metadata": {
        "id": "0Q35RfAyVPNB"
      },
      "execution_count": null,
      "outputs": []
    },
    {
      "cell_type": "code",
      "source": [
        "# Train the model with ModelCheckpoint callback\n",
        "history = model.fit([X_train_text, X_train_reply], y_train_encoded,\n",
        "                    validation_data=([X_val_text, X_val_reply], y_val_encoded),\n",
        "                    epochs=50, batch_size=32,\n",
        "                    callbacks=[checkpoint])\n",
        "# Plot training history\n",
        "plot_training(history)\n"
      ],
      "metadata": {
        "id": "T4N7p35-UxeK",
        "colab": {
          "base_uri": "https://localhost:8080/",
          "height": 1000
        },
        "outputId": "f8664396-51c7-4fac-f3c9-476457a374bf"
      },
      "execution_count": null,
      "outputs": [
        {
          "output_type": "stream",
          "name": "stdout",
          "text": [
            "Epoch 1/50\n",
            "72/72 [==============================] - ETA: 0s - loss: 1.0823 - accuracy: 0.3907\n",
            "Epoch 1: val_accuracy improved from -inf to 0.42657, saving model to /content/drive/MyDrive/Deep Learning/type_1.h5\n"
          ]
        },
        {
          "output_type": "stream",
          "name": "stderr",
          "text": [
            "/usr/local/lib/python3.10/dist-packages/keras/src/engine/training.py:3103: UserWarning: You are saving your model as an HDF5 file via `model.save()`. This file format is considered legacy. We recommend using instead the native Keras format, e.g. `model.save('my_model.keras')`.\n",
            "  saving_api.save_model(\n"
          ]
        },
        {
          "output_type": "stream",
          "name": "stdout",
          "text": [
            "\b\b\b\b\b\b\b\b\b\b\b\b\b\b\b\b\b\b\b\b\b\b\b\b\b\b\b\b\b\b\b\b\b\b\b\b\b\b\b\b\b\b\b\b\b\b\b\b\b\b\b\b\b\b\b\b\b\b\b\b\b\b\b\b\b\b\b\b\b\b\b\b\b\b\b\b\b\b\b\b\b\b\r72/72 [==============================] - 47s 30ms/step - loss: 1.0823 - accuracy: 0.3907 - val_loss: 1.0484 - val_accuracy: 0.4266\n",
            "Epoch 2/50\n",
            "70/72 [============================>.] - ETA: 0s - loss: 1.0274 - accuracy: 0.4848\n",
            "Epoch 2: val_accuracy improved from 0.42657 to 0.49650, saving model to /content/drive/MyDrive/Deep Learning/type_1.h5\n",
            "72/72 [==============================] - 1s 10ms/step - loss: 1.0274 - accuracy: 0.4845 - val_loss: 0.9981 - val_accuracy: 0.4965\n",
            "Epoch 3/50\n",
            "67/72 [==========================>...] - ETA: 0s - loss: 0.9875 - accuracy: 0.5149\n",
            "Epoch 3: val_accuracy improved from 0.49650 to 0.54545, saving model to /content/drive/MyDrive/Deep Learning/type_1.h5\n",
            "72/72 [==============================] - 1s 11ms/step - loss: 0.9865 - accuracy: 0.5146 - val_loss: 0.9386 - val_accuracy: 0.5455\n",
            "Epoch 4/50\n",
            "72/72 [==============================] - ETA: 0s - loss: 0.9388 - accuracy: 0.5653\n",
            "Epoch 4: val_accuracy improved from 0.54545 to 0.55944, saving model to /content/drive/MyDrive/Deep Learning/type_1.h5\n",
            "72/72 [==============================] - 1s 10ms/step - loss: 0.9388 - accuracy: 0.5653 - val_loss: 0.8966 - val_accuracy: 0.5594\n",
            "Epoch 5/50\n",
            "68/72 [===========================>..] - ETA: 0s - loss: 0.9403 - accuracy: 0.5597\n",
            "Epoch 5: val_accuracy improved from 0.55944 to 0.59091, saving model to /content/drive/MyDrive/Deep Learning/type_1.h5\n",
            "72/72 [==============================] - 1s 10ms/step - loss: 0.9382 - accuracy: 0.5613 - val_loss: 0.9110 - val_accuracy: 0.5909\n",
            "Epoch 6/50\n",
            "71/72 [============================>.] - ETA: 0s - loss: 0.9009 - accuracy: 0.5753\n",
            "Epoch 6: val_accuracy did not improve from 0.59091\n",
            "72/72 [==============================] - 1s 9ms/step - loss: 0.9037 - accuracy: 0.5735 - val_loss: 0.9002 - val_accuracy: 0.5315\n",
            "Epoch 7/50\n",
            "69/72 [===========================>..] - ETA: 0s - loss: 0.9063 - accuracy: 0.5679\n",
            "Epoch 7: val_accuracy improved from 0.59091 to 0.59441, saving model to /content/drive/MyDrive/Deep Learning/type_1.h5\n",
            "72/72 [==============================] - 1s 10ms/step - loss: 0.9048 - accuracy: 0.5683 - val_loss: 0.8784 - val_accuracy: 0.5944\n",
            "Epoch 8/50\n",
            "71/72 [============================>.] - ETA: 0s - loss: 0.8820 - accuracy: 0.5898\n",
            "Epoch 8: val_accuracy did not improve from 0.59441\n",
            "72/72 [==============================] - 1s 9ms/step - loss: 0.8816 - accuracy: 0.5897 - val_loss: 0.9051 - val_accuracy: 0.5245\n",
            "Epoch 9/50\n",
            "71/72 [============================>.] - ETA: 0s - loss: 0.8710 - accuracy: 0.5995\n",
            "Epoch 9: val_accuracy did not improve from 0.59441\n",
            "72/72 [==============================] - 1s 14ms/step - loss: 0.8695 - accuracy: 0.6002 - val_loss: 0.8846 - val_accuracy: 0.5280\n",
            "Epoch 10/50\n",
            "70/72 [============================>.] - ETA: 0s - loss: 0.8649 - accuracy: 0.5911\n",
            "Epoch 10: val_accuracy improved from 0.59441 to 0.59790, saving model to /content/drive/MyDrive/Deep Learning/type_1.h5\n",
            "72/72 [==============================] - 1s 15ms/step - loss: 0.8617 - accuracy: 0.5941 - val_loss: 0.8645 - val_accuracy: 0.5979\n",
            "Epoch 11/50\n",
            "70/72 [============================>.] - ETA: 0s - loss: 0.8576 - accuracy: 0.5973\n",
            "Epoch 11: val_accuracy did not improve from 0.59790\n",
            "72/72 [==============================] - 1s 13ms/step - loss: 0.8573 - accuracy: 0.5971 - val_loss: 0.8778 - val_accuracy: 0.5140\n",
            "Epoch 12/50\n",
            "66/72 [==========================>...] - ETA: 0s - loss: 0.8502 - accuracy: 0.5990\n",
            "Epoch 12: val_accuracy did not improve from 0.59790\n",
            "72/72 [==============================] - 1s 11ms/step - loss: 0.8433 - accuracy: 0.6006 - val_loss: 0.8531 - val_accuracy: 0.5874\n",
            "Epoch 13/50\n",
            "72/72 [==============================] - ETA: 0s - loss: 0.8358 - accuracy: 0.6063\n",
            "Epoch 13: val_accuracy did not improve from 0.59790\n",
            "72/72 [==============================] - 1s 9ms/step - loss: 0.8358 - accuracy: 0.6063 - val_loss: 0.8558 - val_accuracy: 0.5734\n",
            "Epoch 14/50\n",
            "69/72 [===========================>..] - ETA: 0s - loss: 0.8377 - accuracy: 0.6082\n",
            "Epoch 14: val_accuracy did not improve from 0.59790\n",
            "72/72 [==============================] - 1s 9ms/step - loss: 0.8367 - accuracy: 0.6085 - val_loss: 0.8585 - val_accuracy: 0.5629\n",
            "Epoch 15/50\n",
            "69/72 [===========================>..] - ETA: 0s - loss: 0.8083 - accuracy: 0.6064\n",
            "Epoch 15: val_accuracy did not improve from 0.59790\n",
            "72/72 [==============================] - 1s 9ms/step - loss: 0.8093 - accuracy: 0.6076 - val_loss: 0.8377 - val_accuracy: 0.5420\n",
            "Epoch 16/50\n",
            "68/72 [===========================>..] - ETA: 0s - loss: 0.8221 - accuracy: 0.6153\n",
            "Epoch 16: val_accuracy did not improve from 0.59790\n",
            "72/72 [==============================] - 1s 9ms/step - loss: 0.8253 - accuracy: 0.6159 - val_loss: 0.8599 - val_accuracy: 0.5629\n",
            "Epoch 17/50\n",
            "69/72 [===========================>..] - ETA: 0s - loss: 0.8161 - accuracy: 0.6082\n",
            "Epoch 17: val_accuracy did not improve from 0.59790\n",
            "72/72 [==============================] - 1s 9ms/step - loss: 0.8176 - accuracy: 0.6102 - val_loss: 0.8617 - val_accuracy: 0.5734\n",
            "Epoch 18/50\n",
            "67/72 [==========================>...] - ETA: 0s - loss: 0.8034 - accuracy: 0.6329\n",
            "Epoch 18: val_accuracy did not improve from 0.59790\n",
            "72/72 [==============================] - 1s 9ms/step - loss: 0.8081 - accuracy: 0.6303 - val_loss: 0.8741 - val_accuracy: 0.5594\n",
            "Epoch 19/50\n",
            "72/72 [==============================] - ETA: 0s - loss: 0.8014 - accuracy: 0.6412\n",
            "Epoch 19: val_accuracy did not improve from 0.59790\n",
            "72/72 [==============================] - 1s 9ms/step - loss: 0.8014 - accuracy: 0.6412 - val_loss: 0.8597 - val_accuracy: 0.5734\n",
            "Epoch 20/50\n",
            "68/72 [===========================>..] - ETA: 0s - loss: 0.7997 - accuracy: 0.6245\n",
            "Epoch 20: val_accuracy did not improve from 0.59790\n",
            "72/72 [==============================] - 1s 9ms/step - loss: 0.7960 - accuracy: 0.6251 - val_loss: 0.8505 - val_accuracy: 0.5734\n",
            "Epoch 21/50\n",
            "68/72 [===========================>..] - ETA: 0s - loss: 0.8011 - accuracy: 0.6369\n",
            "Epoch 21: val_accuracy did not improve from 0.59790\n",
            "72/72 [==============================] - 1s 9ms/step - loss: 0.8003 - accuracy: 0.6386 - val_loss: 0.8280 - val_accuracy: 0.5944\n",
            "Epoch 22/50\n",
            "71/72 [============================>.] - ETA: 0s - loss: 0.7841 - accuracy: 0.6312\n",
            "Epoch 22: val_accuracy did not improve from 0.59790\n",
            "72/72 [==============================] - 1s 9ms/step - loss: 0.7844 - accuracy: 0.6312 - val_loss: 0.8403 - val_accuracy: 0.5699\n",
            "Epoch 23/50\n",
            "71/72 [============================>.] - ETA: 0s - loss: 0.7821 - accuracy: 0.6422\n",
            "Epoch 23: val_accuracy did not improve from 0.59790\n",
            "72/72 [==============================] - 1s 9ms/step - loss: 0.7827 - accuracy: 0.6421 - val_loss: 0.8304 - val_accuracy: 0.5804\n",
            "Epoch 24/50\n",
            "68/72 [===========================>..] - ETA: 0s - loss: 0.7662 - accuracy: 0.6415\n",
            "Epoch 24: val_accuracy did not improve from 0.59790\n",
            "72/72 [==============================] - 1s 9ms/step - loss: 0.7732 - accuracy: 0.6408 - val_loss: 0.8702 - val_accuracy: 0.5734\n",
            "Epoch 25/50\n",
            "68/72 [===========================>..] - ETA: 0s - loss: 0.7685 - accuracy: 0.6567\n",
            "Epoch 25: val_accuracy did not improve from 0.59790\n",
            "72/72 [==============================] - 1s 9ms/step - loss: 0.7680 - accuracy: 0.6556 - val_loss: 0.8748 - val_accuracy: 0.5629\n",
            "Epoch 26/50\n",
            "66/72 [==========================>...] - ETA: 0s - loss: 0.7488 - accuracy: 0.6501\n",
            "Epoch 26: val_accuracy improved from 0.59790 to 0.60839, saving model to /content/drive/MyDrive/Deep Learning/type_1.h5\n",
            "72/72 [==============================] - 1s 18ms/step - loss: 0.7521 - accuracy: 0.6482 - val_loss: 0.8338 - val_accuracy: 0.6084\n",
            "Epoch 27/50\n",
            "72/72 [==============================] - ETA: 0s - loss: 0.7458 - accuracy: 0.6617\n",
            "Epoch 27: val_accuracy did not improve from 0.60839\n",
            "72/72 [==============================] - 1s 13ms/step - loss: 0.7458 - accuracy: 0.6617 - val_loss: 0.8676 - val_accuracy: 0.5699\n",
            "Epoch 28/50\n",
            "70/72 [============================>.] - ETA: 0s - loss: 0.7475 - accuracy: 0.6580\n",
            "Epoch 28: val_accuracy did not improve from 0.60839\n",
            "72/72 [==============================] - 1s 13ms/step - loss: 0.7459 - accuracy: 0.6582 - val_loss: 0.8835 - val_accuracy: 0.5490\n",
            "Epoch 29/50\n",
            "70/72 [============================>.] - ETA: 0s - loss: 0.7491 - accuracy: 0.6585\n",
            "Epoch 29: val_accuracy did not improve from 0.60839\n",
            "72/72 [==============================] - 1s 13ms/step - loss: 0.7549 - accuracy: 0.6560 - val_loss: 0.9132 - val_accuracy: 0.5839\n",
            "Epoch 30/50\n",
            "69/72 [===========================>..] - ETA: 0s - loss: 0.7366 - accuracy: 0.6703\n",
            "Epoch 30: val_accuracy did not improve from 0.60839\n",
            "72/72 [==============================] - 1s 11ms/step - loss: 0.7345 - accuracy: 0.6718 - val_loss: 0.8887 - val_accuracy: 0.5874\n",
            "Epoch 31/50\n",
            "70/72 [============================>.] - ETA: 0s - loss: 0.7217 - accuracy: 0.6754\n",
            "Epoch 31: val_accuracy improved from 0.60839 to 0.62238, saving model to /content/drive/MyDrive/Deep Learning/type_1.h5\n",
            "72/72 [==============================] - 1s 10ms/step - loss: 0.7237 - accuracy: 0.6757 - val_loss: 0.8663 - val_accuracy: 0.6224\n",
            "Epoch 32/50\n",
            "72/72 [==============================] - ETA: 0s - loss: 0.7367 - accuracy: 0.6595\n",
            "Epoch 32: val_accuracy did not improve from 0.62238\n",
            "72/72 [==============================] - 1s 10ms/step - loss: 0.7367 - accuracy: 0.6595 - val_loss: 0.8456 - val_accuracy: 0.5839\n",
            "Epoch 33/50\n",
            "66/72 [==========================>...] - ETA: 0s - loss: 0.7256 - accuracy: 0.6771\n",
            "Epoch 33: val_accuracy did not improve from 0.62238\n",
            "72/72 [==============================] - 1s 9ms/step - loss: 0.7288 - accuracy: 0.6735 - val_loss: 0.9005 - val_accuracy: 0.5664\n",
            "Epoch 34/50\n",
            "72/72 [==============================] - ETA: 0s - loss: 0.7072 - accuracy: 0.6840\n",
            "Epoch 34: val_accuracy did not improve from 0.62238\n",
            "72/72 [==============================] - 1s 9ms/step - loss: 0.7072 - accuracy: 0.6840 - val_loss: 0.9014 - val_accuracy: 0.6014\n",
            "Epoch 35/50\n",
            "67/72 [==========================>...] - ETA: 0s - loss: 0.7074 - accuracy: 0.6782\n",
            "Epoch 35: val_accuracy did not improve from 0.62238\n",
            "72/72 [==============================] - 1s 10ms/step - loss: 0.7091 - accuracy: 0.6770 - val_loss: 0.8758 - val_accuracy: 0.5664\n",
            "Epoch 36/50\n",
            "69/72 [===========================>..] - ETA: 0s - loss: 0.6929 - accuracy: 0.6848\n",
            "Epoch 36: val_accuracy did not improve from 0.62238\n",
            "72/72 [==============================] - 1s 9ms/step - loss: 0.6910 - accuracy: 0.6849 - val_loss: 0.9040 - val_accuracy: 0.6014\n",
            "Epoch 37/50\n",
            "72/72 [==============================] - ETA: 0s - loss: 0.6905 - accuracy: 0.6853\n",
            "Epoch 37: val_accuracy did not improve from 0.62238\n",
            "72/72 [==============================] - 1s 9ms/step - loss: 0.6905 - accuracy: 0.6853 - val_loss: 0.9162 - val_accuracy: 0.5769\n",
            "Epoch 38/50\n",
            "69/72 [===========================>..] - ETA: 0s - loss: 0.6869 - accuracy: 0.6907\n",
            "Epoch 38: val_accuracy did not improve from 0.62238\n",
            "72/72 [==============================] - 1s 10ms/step - loss: 0.6862 - accuracy: 0.6910 - val_loss: 0.9272 - val_accuracy: 0.5594\n",
            "Epoch 39/50\n",
            "69/72 [===========================>..] - ETA: 0s - loss: 0.6875 - accuracy: 0.7020\n",
            "Epoch 39: val_accuracy did not improve from 0.62238\n",
            "72/72 [==============================] - 1s 9ms/step - loss: 0.6820 - accuracy: 0.7041 - val_loss: 0.9037 - val_accuracy: 0.5874\n",
            "Epoch 40/50\n",
            "69/72 [===========================>..] - ETA: 0s - loss: 0.6852 - accuracy: 0.7002\n",
            "Epoch 40: val_accuracy did not improve from 0.62238\n",
            "72/72 [==============================] - 1s 9ms/step - loss: 0.6869 - accuracy: 0.6953 - val_loss: 0.9427 - val_accuracy: 0.6049\n",
            "Epoch 41/50\n",
            "68/72 [===========================>..] - ETA: 0s - loss: 0.6811 - accuracy: 0.7004\n",
            "Epoch 41: val_accuracy did not improve from 0.62238\n",
            "72/72 [==============================] - 1s 9ms/step - loss: 0.6822 - accuracy: 0.6993 - val_loss: 0.9273 - val_accuracy: 0.5734\n",
            "Epoch 42/50\n",
            "72/72 [==============================] - ETA: 0s - loss: 0.6813 - accuracy: 0.7041\n",
            "Epoch 42: val_accuracy did not improve from 0.62238\n",
            "72/72 [==============================] - 1s 9ms/step - loss: 0.6813 - accuracy: 0.7041 - val_loss: 0.9162 - val_accuracy: 0.5734\n",
            "Epoch 43/50\n",
            "67/72 [==========================>...] - ETA: 0s - loss: 0.6582 - accuracy: 0.7104\n",
            "Epoch 43: val_accuracy did not improve from 0.62238\n",
            "72/72 [==============================] - 1s 9ms/step - loss: 0.6638 - accuracy: 0.7084 - val_loss: 0.9577 - val_accuracy: 0.5769\n",
            "Epoch 44/50\n",
            "71/72 [============================>.] - ETA: 0s - loss: 0.6684 - accuracy: 0.7064\n",
            "Epoch 44: val_accuracy improved from 0.62238 to 0.62587, saving model to /content/drive/MyDrive/Deep Learning/type_1.h5\n",
            "72/72 [==============================] - 1s 18ms/step - loss: 0.6682 - accuracy: 0.7076 - val_loss: 0.9303 - val_accuracy: 0.6259\n",
            "Epoch 45/50\n",
            "69/72 [===========================>..] - ETA: 0s - loss: 0.6700 - accuracy: 0.6907\n",
            "Epoch 45: val_accuracy did not improve from 0.62587\n",
            "72/72 [==============================] - 1s 12ms/step - loss: 0.6732 - accuracy: 0.6875 - val_loss: 0.9334 - val_accuracy: 0.5664\n",
            "Epoch 46/50\n",
            "70/72 [============================>.] - ETA: 0s - loss: 0.6483 - accuracy: 0.7138\n",
            "Epoch 46: val_accuracy did not improve from 0.62587\n",
            "72/72 [==============================] - 1s 12ms/step - loss: 0.6493 - accuracy: 0.7132 - val_loss: 0.9028 - val_accuracy: 0.5804\n",
            "Epoch 47/50\n",
            "68/72 [===========================>..] - ETA: 0s - loss: 0.6381 - accuracy: 0.7224\n",
            "Epoch 47: val_accuracy did not improve from 0.62587\n",
            "72/72 [==============================] - 1s 10ms/step - loss: 0.6408 - accuracy: 0.7211 - val_loss: 0.9768 - val_accuracy: 0.5664\n",
            "Epoch 48/50\n",
            "67/72 [==========================>...] - ETA: 0s - loss: 0.6287 - accuracy: 0.7299\n",
            "Epoch 48: val_accuracy did not improve from 0.62587\n",
            "72/72 [==============================] - 1s 9ms/step - loss: 0.6336 - accuracy: 0.7254 - val_loss: 0.9409 - val_accuracy: 0.6049\n",
            "Epoch 49/50\n",
            "69/72 [===========================>..] - ETA: 0s - loss: 0.6156 - accuracy: 0.7233\n",
            "Epoch 49: val_accuracy did not improve from 0.62587\n",
            "72/72 [==============================] - 1s 9ms/step - loss: 0.6168 - accuracy: 0.7228 - val_loss: 0.9530 - val_accuracy: 0.5839\n",
            "Epoch 50/50\n",
            "67/72 [==========================>...] - ETA: 0s - loss: 0.6417 - accuracy: 0.7146\n",
            "Epoch 50: val_accuracy did not improve from 0.62587\n",
            "72/72 [==============================] - 1s 9ms/step - loss: 0.6398 - accuracy: 0.7176 - val_loss: 0.9742 - val_accuracy: 0.6014\n"
          ]
        },
        {
          "output_type": "display_data",
          "data": {
            "text/plain": [
              "<Figure size 640x480 with 1 Axes>"
            ],
            "image/png": "[encoded data removed]"
          },
          "metadata": {}
        },
        {
          "output_type": "display_data",
          "data": {
            "text/plain": [
              "<Figure size 640x480 with 1 Axes>"
            ],
            "image/png": "[encoded data removed]"
          },
          "metadata": {}
        }
      ]
    },
    {
      "cell_type": "code",
      "source": [
        "best_model = keras.models.load_model(checkpoint_filepath)\n",
        "\n",
        "# Evaluate the best model on test data\n",
        "test_loss, test_accuracy = best_model.evaluate([X_test_text, X_test_reply], y_test_encoded, batch_size=16)\n",
        "print(\"Test Loss:\", test_loss)\n",
        "print(\"Test Accuracy:\", test_accuracy)"
      ],
      "metadata": {
        "colab": {
          "base_uri": "https://localhost:8080/"
        },
        "id": "a854liZOWe4p",
        "outputId": "ad602f29-020e-4d4f-b30c-9971744dabfa"
      },
      "execution_count": null,
      "outputs": [
        {
          "output_type": "stream",
          "name": "stdout",
          "text": [
            "18/18 [==============================] - 1s 5ms/step - loss: 0.9366 - accuracy: 0.6167\n",
            "Test Loss: 0.9365996718406677\n",
            "Test Accuracy: 0.6167247295379639\n"
          ]
        }
      ]
    },
    {
      "cell_type": "code",
      "source": [
        "import numpy as np\n",
        "from sklearn.metrics import confusion_matrix\n",
        "import seaborn as sns\n",
        "import matplotlib.pyplot as plt\n",
        "\n",
        "# Load the best model\n",
        "best_model = keras.models.load_model(checkpoint_filepath)\n",
        "\n",
        "# Make predictions on the test data\n",
        "y_pred = best_model.predict([X_test_text, X_test_reply])\n",
        "y_pred_classes = np.argmax(y_pred, axis=1)\n",
        "\n",
        "# Define the class labels\n",
        "class_labels = [-1, 0, 1]\n",
        "\n",
        "# Compute the confusion matrix\n",
        "conf_matrix = confusion_matrix(y_test_encoded, y_pred_classes, labels=class_labels)\n",
        "\n",
        "# Plot the confusion matrix\n",
        "plt.figure(figsize=(8, 6))\n",
        "sns.heatmap(conf_matrix, annot=True, fmt=\"d\", cmap=\"Blues\", xticklabels=class_labels, yticklabels=class_labels)\n",
        "plt.xlabel('Predicted')\n",
        "plt.ylabel('True')\n",
        "plt.title('Confusion Matrix')\n",
        "plt.show()"
      ],
      "metadata": {
        "id": "wkYi0hZDHOx2"
      },
      "execution_count": null,
      "outputs": []
    },
    {
      "cell_type": "markdown",
      "source": [
        "# TYPE-2\n"
      ],
      "metadata": {
        "id": "OO5u9ZyRYWaD"
      }
    },
    {
      "cell_type": "code",
      "source": [
        "def build_model(input_shape):\n",
        "    # Input layers for tweet and reply text embeddings\n",
        "    tweet_input = Input(shape=input_shape)\n",
        "    reply_input = Input(shape=input_shape)\n",
        "\n",
        "    # LSTM layers for tweet and reply sequences\n",
        "    lstm_tweet = LSTM(64, dropout=0.4, return_sequences=True)(tweet_input)\n",
        "    lstm_reply = LSTM(64, dropout=0.4, return_sequences=True)(reply_input)\n",
        "\n",
        "    # Concatenate LSTM outputs\n",
        "    concatenated = Concatenate(axis=-1)([lstm_tweet, lstm_reply])\n",
        "    flattened = Flatten()(concatenated)\n",
        "\n",
        "    # Dense layers for classification\n",
        "    dense1 = Dense(2048, activation='relu')(flattened)\n",
        "    dense1_dropout = Dropout(0.4)(dense1)\n",
        "    dense2 = Dense(512, activation='relu')(dense1_dropout)\n",
        "    dense2_dropout = Dropout(0.4)(dense2)\n",
        "    dense3 = Dense(64, activation='relu')(dense2_dropout)\n",
        "    dense3_dropout = Dropout(0.4)(dense3)\n",
        "\n",
        "    # Output layer\n",
        "    output = Dense(3, activation='softmax')(dense3_dropout)  # 3 classes: positive, negative, neutral\n",
        "\n",
        "    # Build and compile the model with specified learning rate\n",
        "    optimizer = Adam(learning_rate=1e-5)\n",
        "    model = Model(inputs=[tweet_input, reply_input], outputs=output)\n",
        "    model.compile(optimizer=optimizer, loss='sparse_categorical_crossentropy', metrics=['accuracy'])\n",
        "\n",
        "    return model"
      ],
      "metadata": {
        "id": "yGWqvsJUfQSD"
      },
      "execution_count": null,
      "outputs": []
    },
    {
      "cell_type": "code",
      "source": [
        "\n",
        "\n",
        "\n",
        "# Define the filepath to save the best model in Google Drive\n",
        "checkpoint_filepath = '/content/drive/MyDrive/Deep Learning/type_2.h5'\n",
        "\n",
        "# Define the ModelCheckpoint callback to save the best model\n",
        "checkpoint = ModelCheckpoint(filepath=checkpoint_filepath,\n",
        "                             monitor='val_accuracy',\n",
        "                             mode='max',\n",
        "                             save_best_only=True,\n",
        "                             save_weights_only=False,\n",
        "                             verbose=1)\n",
        "\n",
        "# Assuming input_shape is the shape of the embeddings, e.g., (embedding_length, embedding_dimension)\n",
        "input_shape = (60, 50)  # Example shape\n",
        "\n",
        "# Convert string labels to integer labels using LabelEncoder\n",
        "label_encoder = LabelEncoder()\n",
        "y_train_encoded = label_encoder.fit_transform(y_train)\n",
        "y_val_encoded = label_encoder.transform(y_val)\n",
        "y_test_encoded = label_encoder.transform(y_test)\n",
        "\n",
        "# Define the model\n",
        "model = build_model(input_shape)\n",
        "model.summary()\n"
      ],
      "metadata": {
        "colab": {
          "base_uri": "https://localhost:8080/"
        },
        "outputId": "0b91b22b-951c-4495-8366-8d692736ecca",
        "id": "hpIl6e-RcxN6"
      },
      "execution_count": null,
      "outputs": [
        {
          "output_type": "stream",
          "name": "stdout",
          "text": [
            "Model: \"model_5\"\n",
            "__________________________________________________________________________________________________\n",
            " Layer (type)                Output Shape                 Param #   Connected to                  \n",
            "==================================================================================================\n",
            " input_11 (InputLayer)       [(None, 60, 50)]             0         []                            \n",
            "                                                                                                  \n",
            " input_12 (InputLayer)       [(None, 60, 50)]             0         []                            \n",
            "                                                                                                  \n",
            " lstm_10 (LSTM)              (None, 60, 64)               29440     ['input_11[0][0]']            \n",
            "                                                                                                  \n",
            " lstm_11 (LSTM)              (None, 60, 64)               29440     ['input_12[0][0]']            \n",
            "                                                                                                  \n",
            " concatenate_5 (Concatenate  (None, 60, 128)              0         ['lstm_10[0][0]',             \n",
            " )                                                                   'lstm_11[0][0]']             \n",
            "                                                                                                  \n",
            " flatten_3 (Flatten)         (None, 7680)                 0         ['concatenate_5[0][0]']       \n",
            "                                                                                                  \n",
            " dense_16 (Dense)            (None, 2048)                 1573068   ['flatten_3[0][0]']           \n",
            "                                                          8                                       \n",
            "                                                                                                  \n",
            " dropout_10 (Dropout)        (None, 2048)                 0         ['dense_16[0][0]']            \n",
            "                                                                                                  \n",
            " dense_17 (Dense)            (None, 512)                  1049088   ['dropout_10[0][0]']          \n",
            "                                                                                                  \n",
            " dropout_11 (Dropout)        (None, 512)                  0         ['dense_17[0][0]']            \n",
            "                                                                                                  \n",
            " dense_18 (Dense)            (None, 64)                   32832     ['dropout_11[0][0]']          \n",
            "                                                                                                  \n",
            " dropout_12 (Dropout)        (None, 64)                   0         ['dense_18[0][0]']            \n",
            "                                                                                                  \n",
            " dense_19 (Dense)            (None, 3)                    195       ['dropout_12[0][0]']          \n",
            "                                                                                                  \n",
            "==================================================================================================\n",
            "Total params: 16871683 (64.36 MB)\n",
            "Trainable params: 16871683 (64.36 MB)\n",
            "Non-trainable params: 0 (0.00 Byte)\n",
            "__________________________________________________________________________________________________\n"
          ]
        }
      ]
    },
    {
      "cell_type": "code",
      "source": [
        "# Train the model with ModelCheckpoint callback\n",
        "history = model.fit([X_train_text, X_train_reply], y_train_encoded,\n",
        "                    validation_data=([X_val_text, X_val_reply], y_val_encoded),\n",
        "                    epochs=100, batch_size=32,\n",
        "                    callbacks=[checkpoint])\n",
        "# Plot graph\n",
        "plot_training(history)"
      ],
      "metadata": {
        "colab": {
          "base_uri": "https://localhost:8080/",
          "height": 1000
        },
        "id": "Qft_3pbbcvbi",
        "outputId": "6d543da6-b9ab-46e3-d716-d0c5ab2a3672"
      },
      "execution_count": null,
      "outputs": [
        {
          "output_type": "stream",
          "name": "stdout",
          "text": [
            "Epoch 1/100\n",
            "69/72 [===========================>..] - ETA: 0s - loss: 1.0925 - accuracy: 0.3845\n",
            "Epoch 1: val_accuracy improved from -inf to 0.43706, saving model to /content/drive/MyDrive/Deep Learning/type_2.h5\n"
          ]
        },
        {
          "output_type": "stream",
          "name": "stderr",
          "text": [
            "/usr/local/lib/python3.10/dist-packages/keras/src/engine/training.py:3103: UserWarning: You are saving your model as an HDF5 file via `model.save()`. This file format is considered legacy. We recommend using instead the native Keras format, e.g. `model.save('my_model.keras')`.\n",
            "  saving_api.save_model(\n"
          ]
        },
        {
          "output_type": "stream",
          "name": "stdout",
          "text": [
            "\b\b\b\b\b\b\b\b\b\b\b\b\b\b\b\b\b\b\b\b\b\b\b\b\b\b\b\b\b\b\b\b\b\b\b\b\b\b\b\b\b\b\b\b\b\b\b\b\b\b\b\b\b\b\b\b\b\b\b\b\b\b\b\b\b\b\b\b\b\b\b\b\b\b\b\b\b\b\b\b\b\b\r72/72 [==============================] - 9s 64ms/step - loss: 1.0920 - accuracy: 0.3867 - val_loss: 1.0582 - val_accuracy: 0.4371\n",
            "Epoch 2/100\n",
            "71/72 [============================>.] - ETA: 0s - loss: 1.0655 - accuracy: 0.4199\n",
            "Epoch 2: val_accuracy improved from 0.43706 to 0.48601, saving model to /content/drive/MyDrive/Deep Learning/type_2.h5\n",
            "72/72 [==============================] - 4s 56ms/step - loss: 1.0644 - accuracy: 0.4212 - val_loss: 1.0253 - val_accuracy: 0.4860\n",
            "Epoch 3/100\n",
            "70/72 [============================>.] - ETA: 0s - loss: 1.0503 - accuracy: 0.4437\n",
            "Epoch 3: val_accuracy improved from 0.48601 to 0.50350, saving model to /content/drive/MyDrive/Deep Learning/type_2.h5\n",
            "72/72 [==============================] - 2s 26ms/step - loss: 1.0477 - accuracy: 0.4465 - val_loss: 1.0092 - val_accuracy: 0.5035\n",
            "Epoch 4/100\n",
            "69/72 [===========================>..] - ETA: 0s - loss: 1.0245 - accuracy: 0.4728\n",
            "Epoch 4: val_accuracy did not improve from 0.50350\n",
            "72/72 [==============================] - 1s 13ms/step - loss: 1.0269 - accuracy: 0.4705 - val_loss: 0.9912 - val_accuracy: 0.4965\n",
            "Epoch 5/100\n",
            "69/72 [===========================>..] - ETA: 0s - loss: 1.0056 - accuracy: 0.5023\n",
            "Epoch 5: val_accuracy improved from 0.50350 to 0.52448, saving model to /content/drive/MyDrive/Deep Learning/type_2.h5\n",
            "72/72 [==============================] - 2s 30ms/step - loss: 1.0063 - accuracy: 0.4998 - val_loss: 0.9835 - val_accuracy: 0.5245\n",
            "Epoch 6/100\n",
            "68/72 [===========================>..] - ETA: 0s - loss: 1.0020 - accuracy: 0.5055\n",
            "Epoch 6: val_accuracy did not improve from 0.52448\n",
            "72/72 [==============================] - 1s 14ms/step - loss: 0.9998 - accuracy: 0.5081 - val_loss: 0.9644 - val_accuracy: 0.5140\n",
            "Epoch 7/100\n",
            "72/72 [==============================] - ETA: 0s - loss: 0.9854 - accuracy: 0.5116\n",
            "Epoch 7: val_accuracy did not improve from 0.52448\n",
            "72/72 [==============================] - 1s 15ms/step - loss: 0.9854 - accuracy: 0.5116 - val_loss: 0.9601 - val_accuracy: 0.5140\n",
            "Epoch 8/100\n",
            "69/72 [===========================>..] - ETA: 0s - loss: 0.9836 - accuracy: 0.5131\n",
            "Epoch 8: val_accuracy improved from 0.52448 to 0.53846, saving model to /content/drive/MyDrive/Deep Learning/type_2.h5\n",
            "72/72 [==============================] - 2s 33ms/step - loss: 0.9818 - accuracy: 0.5146 - val_loss: 0.9489 - val_accuracy: 0.5385\n",
            "Epoch 9/100\n",
            "70/72 [============================>.] - ETA: 0s - loss: 0.9746 - accuracy: 0.5237\n",
            "Epoch 9: val_accuracy did not improve from 0.53846\n",
            "72/72 [==============================] - 1s 16ms/step - loss: 0.9736 - accuracy: 0.5220 - val_loss: 0.9422 - val_accuracy: 0.5385\n",
            "Epoch 10/100\n",
            "71/72 [============================>.] - ETA: 0s - loss: 0.9506 - accuracy: 0.5467\n",
            "Epoch 10: val_accuracy improved from 0.53846 to 0.54196, saving model to /content/drive/MyDrive/Deep Learning/type_2.h5\n",
            "72/72 [==============================] - 2s 25ms/step - loss: 0.9507 - accuracy: 0.5460 - val_loss: 0.9369 - val_accuracy: 0.5420\n",
            "Epoch 11/100\n",
            "72/72 [==============================] - ETA: 0s - loss: 0.9495 - accuracy: 0.5378\n",
            "Epoch 11: val_accuracy improved from 0.54196 to 0.56294, saving model to /content/drive/MyDrive/Deep Learning/type_2.h5\n",
            "72/72 [==============================] - 4s 61ms/step - loss: 0.9495 - accuracy: 0.5378 - val_loss: 0.9269 - val_accuracy: 0.5629\n",
            "Epoch 12/100\n",
            "69/72 [===========================>..] - ETA: 0s - loss: 0.9460 - accuracy: 0.5421\n",
            "Epoch 12: val_accuracy did not improve from 0.56294\n",
            "72/72 [==============================] - 1s 15ms/step - loss: 0.9442 - accuracy: 0.5426 - val_loss: 0.9256 - val_accuracy: 0.5524\n",
            "Epoch 13/100\n",
            "68/72 [===========================>..] - ETA: 0s - loss: 0.9410 - accuracy: 0.5510\n",
            "Epoch 13: val_accuracy did not improve from 0.56294\n",
            "72/72 [==============================] - 1s 13ms/step - loss: 0.9359 - accuracy: 0.5557 - val_loss: 0.9205 - val_accuracy: 0.5629\n",
            "Epoch 14/100\n",
            "72/72 [==============================] - ETA: 0s - loss: 0.9376 - accuracy: 0.5491\n",
            "Epoch 14: val_accuracy did not improve from 0.56294\n",
            "72/72 [==============================] - 1s 13ms/step - loss: 0.9376 - accuracy: 0.5491 - val_loss: 0.9153 - val_accuracy: 0.5524\n",
            "Epoch 15/100\n",
            "72/72 [==============================] - ETA: 0s - loss: 0.9193 - accuracy: 0.5644\n",
            "Epoch 15: val_accuracy did not improve from 0.56294\n",
            "72/72 [==============================] - 1s 16ms/step - loss: 0.9193 - accuracy: 0.5644 - val_loss: 0.9070 - val_accuracy: 0.5629\n",
            "Epoch 16/100\n",
            "71/72 [============================>.] - ETA: 0s - loss: 0.9124 - accuracy: 0.5625\n",
            "Epoch 16: val_accuracy did not improve from 0.56294\n",
            "72/72 [==============================] - 1s 17ms/step - loss: 0.9111 - accuracy: 0.5626 - val_loss: 0.9057 - val_accuracy: 0.5420\n",
            "Epoch 17/100\n",
            "72/72 [==============================] - ETA: 0s - loss: 0.9149 - accuracy: 0.5653\n",
            "Epoch 17: val_accuracy improved from 0.56294 to 0.56993, saving model to /content/drive/MyDrive/Deep Learning/type_2.h5\n",
            "72/72 [==============================] - 2s 29ms/step - loss: 0.9149 - accuracy: 0.5653 - val_loss: 0.8978 - val_accuracy: 0.5699\n",
            "Epoch 18/100\n",
            "71/72 [============================>.] - ETA: 0s - loss: 0.9036 - accuracy: 0.5739\n",
            "Epoch 18: val_accuracy improved from 0.56993 to 0.58392, saving model to /content/drive/MyDrive/Deep Learning/type_2.h5\n",
            "72/72 [==============================] - 3s 47ms/step - loss: 0.9047 - accuracy: 0.5735 - val_loss: 0.8946 - val_accuracy: 0.5839\n",
            "Epoch 19/100\n",
            "69/72 [===========================>..] - ETA: 0s - loss: 0.9043 - accuracy: 0.5711\n",
            "Epoch 19: val_accuracy did not improve from 0.58392\n",
            "72/72 [==============================] - 1s 15ms/step - loss: 0.9037 - accuracy: 0.5740 - val_loss: 0.8971 - val_accuracy: 0.5594\n",
            "Epoch 20/100\n",
            "71/72 [============================>.] - ETA: 0s - loss: 0.8973 - accuracy: 0.5783\n",
            "Epoch 20: val_accuracy did not improve from 0.58392\n",
            "72/72 [==============================] - 1s 13ms/step - loss: 0.8972 - accuracy: 0.5770 - val_loss: 0.8909 - val_accuracy: 0.5594\n",
            "Epoch 21/100\n",
            "72/72 [==============================] - ETA: 0s - loss: 0.9045 - accuracy: 0.5670\n",
            "Epoch 21: val_accuracy did not improve from 0.58392\n",
            "72/72 [==============================] - 1s 14ms/step - loss: 0.9045 - accuracy: 0.5670 - val_loss: 0.8887 - val_accuracy: 0.5524\n",
            "Epoch 22/100\n",
            "72/72 [==============================] - ETA: 0s - loss: 0.8939 - accuracy: 0.5788\n",
            "Epoch 22: val_accuracy did not improve from 0.58392\n",
            "72/72 [==============================] - 1s 14ms/step - loss: 0.8939 - accuracy: 0.5788 - val_loss: 0.8881 - val_accuracy: 0.5629\n",
            "Epoch 23/100\n",
            "68/72 [===========================>..] - ETA: 0s - loss: 0.8895 - accuracy: 0.5767\n",
            "Epoch 23: val_accuracy did not improve from 0.58392\n",
            "72/72 [==============================] - 1s 14ms/step - loss: 0.8889 - accuracy: 0.5801 - val_loss: 0.8909 - val_accuracy: 0.5350\n",
            "Epoch 24/100\n",
            "69/72 [===========================>..] - ETA: 0s - loss: 0.8904 - accuracy: 0.5752\n",
            "Epoch 24: val_accuracy did not improve from 0.58392\n",
            "72/72 [==============================] - 1s 15ms/step - loss: 0.8912 - accuracy: 0.5766 - val_loss: 0.8851 - val_accuracy: 0.5559\n",
            "Epoch 25/100\n",
            "69/72 [===========================>..] - ETA: 0s - loss: 0.8718 - accuracy: 0.5933\n",
            "Epoch 25: val_accuracy did not improve from 0.58392\n",
            "72/72 [==============================] - 1s 17ms/step - loss: 0.8728 - accuracy: 0.5928 - val_loss: 0.8830 - val_accuracy: 0.5734\n",
            "Epoch 26/100\n",
            "72/72 [==============================] - ETA: 0s - loss: 0.8773 - accuracy: 0.5801\n",
            "Epoch 26: val_accuracy did not improve from 0.58392\n",
            "72/72 [==============================] - 1s 17ms/step - loss: 0.8773 - accuracy: 0.5801 - val_loss: 0.8838 - val_accuracy: 0.5734\n",
            "Epoch 27/100\n",
            "68/72 [===========================>..] - ETA: 0s - loss: 0.8719 - accuracy: 0.5896\n",
            "Epoch 27: val_accuracy did not improve from 0.58392\n",
            "72/72 [==============================] - 1s 15ms/step - loss: 0.8756 - accuracy: 0.5858 - val_loss: 0.8858 - val_accuracy: 0.5839\n",
            "Epoch 28/100\n",
            "70/72 [============================>.] - ETA: 0s - loss: 0.8621 - accuracy: 0.5960\n",
            "Epoch 28: val_accuracy did not improve from 0.58392\n",
            "72/72 [==============================] - 1s 14ms/step - loss: 0.8630 - accuracy: 0.5949 - val_loss: 0.8760 - val_accuracy: 0.5769\n",
            "Epoch 29/100\n",
            "71/72 [============================>.] - ETA: 0s - loss: 0.8589 - accuracy: 0.6074\n",
            "Epoch 29: val_accuracy did not improve from 0.58392\n",
            "72/72 [==============================] - 1s 15ms/step - loss: 0.8577 - accuracy: 0.6085 - val_loss: 0.8767 - val_accuracy: 0.5839\n",
            "Epoch 30/100\n",
            "69/72 [===========================>..] - ETA: 0s - loss: 0.8649 - accuracy: 0.5965\n",
            "Epoch 30: val_accuracy did not improve from 0.58392\n",
            "72/72 [==============================] - 1s 14ms/step - loss: 0.8651 - accuracy: 0.5976 - val_loss: 0.8777 - val_accuracy: 0.5769\n",
            "Epoch 31/100\n",
            "71/72 [============================>.] - ETA: 0s - loss: 0.8597 - accuracy: 0.6070\n",
            "Epoch 31: val_accuracy did not improve from 0.58392\n",
            "72/72 [==============================] - 1s 16ms/step - loss: 0.8595 - accuracy: 0.6076 - val_loss: 0.8778 - val_accuracy: 0.5699\n",
            "Epoch 32/100\n",
            "72/72 [==============================] - ETA: 0s - loss: 0.8526 - accuracy: 0.6133\n",
            "Epoch 32: val_accuracy did not improve from 0.58392\n",
            "72/72 [==============================] - 1s 14ms/step - loss: 0.8526 - accuracy: 0.6133 - val_loss: 0.8800 - val_accuracy: 0.5804\n",
            "Epoch 33/100\n",
            "71/72 [============================>.] - ETA: 0s - loss: 0.8410 - accuracy: 0.6065\n",
            "Epoch 33: val_accuracy did not improve from 0.58392\n",
            "72/72 [==============================] - 1s 14ms/step - loss: 0.8410 - accuracy: 0.6063 - val_loss: 0.8788 - val_accuracy: 0.5804\n",
            "Epoch 34/100\n",
            "69/72 [===========================>..] - ETA: 0s - loss: 0.8550 - accuracy: 0.6150\n",
            "Epoch 34: val_accuracy did not improve from 0.58392\n",
            "72/72 [==============================] - 1s 14ms/step - loss: 0.8541 - accuracy: 0.6176 - val_loss: 0.8708 - val_accuracy: 0.5804\n",
            "Epoch 35/100\n",
            "69/72 [===========================>..] - ETA: 0s - loss: 0.8440 - accuracy: 0.6182\n",
            "Epoch 35: val_accuracy did not improve from 0.58392\n",
            "72/72 [==============================] - 1s 14ms/step - loss: 0.8465 - accuracy: 0.6150 - val_loss: 0.8695 - val_accuracy: 0.5804\n",
            "Epoch 36/100\n",
            "71/72 [============================>.] - ETA: 0s - loss: 0.8383 - accuracy: 0.6105\n",
            "Epoch 36: val_accuracy improved from 0.58392 to 0.58741, saving model to /content/drive/MyDrive/Deep Learning/type_2.h5\n",
            "72/72 [==============================] - 4s 53ms/step - loss: 0.8387 - accuracy: 0.6089 - val_loss: 0.8687 - val_accuracy: 0.5874\n",
            "Epoch 37/100\n",
            "70/72 [============================>.] - ETA: 0s - loss: 0.8348 - accuracy: 0.6094\n",
            "Epoch 37: val_accuracy improved from 0.58741 to 0.59091, saving model to /content/drive/MyDrive/Deep Learning/type_2.h5\n",
            "72/72 [==============================] - 3s 46ms/step - loss: 0.8383 - accuracy: 0.6080 - val_loss: 0.8674 - val_accuracy: 0.5909\n",
            "Epoch 38/100\n",
            "72/72 [==============================] - ETA: 0s - loss: 0.8196 - accuracy: 0.6198\n",
            "Epoch 38: val_accuracy did not improve from 0.59091\n",
            "72/72 [==============================] - 1s 15ms/step - loss: 0.8196 - accuracy: 0.6198 - val_loss: 0.8689 - val_accuracy: 0.5769\n",
            "Epoch 39/100\n",
            "71/72 [============================>.] - ETA: 0s - loss: 0.8328 - accuracy: 0.6254\n",
            "Epoch 39: val_accuracy did not improve from 0.59091\n",
            "72/72 [==============================] - 1s 13ms/step - loss: 0.8315 - accuracy: 0.6264 - val_loss: 0.8653 - val_accuracy: 0.5769\n",
            "Epoch 40/100\n",
            "71/72 [============================>.] - ETA: 0s - loss: 0.8292 - accuracy: 0.6206\n",
            "Epoch 40: val_accuracy did not improve from 0.59091\n",
            "72/72 [==============================] - 1s 13ms/step - loss: 0.8290 - accuracy: 0.6207 - val_loss: 0.8675 - val_accuracy: 0.5839\n",
            "Epoch 41/100\n",
            "71/72 [============================>.] - ETA: 0s - loss: 0.8326 - accuracy: 0.6237\n",
            "Epoch 41: val_accuracy improved from 0.59091 to 0.59790, saving model to /content/drive/MyDrive/Deep Learning/type_2.h5\n",
            "72/72 [==============================] - 2s 26ms/step - loss: 0.8333 - accuracy: 0.6237 - val_loss: 0.8634 - val_accuracy: 0.5979\n",
            "Epoch 42/100\n",
            "71/72 [============================>.] - ETA: 0s - loss: 0.8202 - accuracy: 0.6228\n",
            "Epoch 42: val_accuracy did not improve from 0.59790\n",
            "72/72 [==============================] - 1s 14ms/step - loss: 0.8187 - accuracy: 0.6242 - val_loss: 0.8616 - val_accuracy: 0.5979\n",
            "Epoch 43/100\n",
            "69/72 [===========================>..] - ETA: 0s - loss: 0.8145 - accuracy: 0.6386\n",
            "Epoch 43: val_accuracy did not improve from 0.59790\n",
            "72/72 [==============================] - 1s 13ms/step - loss: 0.8119 - accuracy: 0.6408 - val_loss: 0.8605 - val_accuracy: 0.5909\n",
            "Epoch 44/100\n",
            "72/72 [==============================] - ETA: 0s - loss: 0.8024 - accuracy: 0.6395\n",
            "Epoch 44: val_accuracy did not improve from 0.59790\n",
            "72/72 [==============================] - 1s 16ms/step - loss: 0.8024 - accuracy: 0.6395 - val_loss: 0.8646 - val_accuracy: 0.5839\n",
            "Epoch 45/100\n",
            "69/72 [===========================>..] - ETA: 0s - loss: 0.8248 - accuracy: 0.6304\n",
            "Epoch 45: val_accuracy did not improve from 0.59790\n",
            "72/72 [==============================] - 1s 17ms/step - loss: 0.8249 - accuracy: 0.6303 - val_loss: 0.8578 - val_accuracy: 0.5909\n",
            "Epoch 46/100\n",
            "72/72 [==============================] - ETA: 0s - loss: 0.8062 - accuracy: 0.6281\n",
            "Epoch 46: val_accuracy improved from 0.59790 to 0.60490, saving model to /content/drive/MyDrive/Deep Learning/type_2.h5\n",
            "72/72 [==============================] - 2s 29ms/step - loss: 0.8062 - accuracy: 0.6281 - val_loss: 0.8581 - val_accuracy: 0.6049\n",
            "Epoch 47/100\n",
            "69/72 [===========================>..] - ETA: 0s - loss: 0.7947 - accuracy: 0.6409\n",
            "Epoch 47: val_accuracy did not improve from 0.60490\n",
            "72/72 [==============================] - 1s 13ms/step - loss: 0.7980 - accuracy: 0.6386 - val_loss: 0.8625 - val_accuracy: 0.5839\n",
            "Epoch 48/100\n",
            "71/72 [============================>.] - ETA: 0s - loss: 0.7909 - accuracy: 0.6457\n",
            "Epoch 48: val_accuracy did not improve from 0.60490\n",
            "72/72 [==============================] - 1s 13ms/step - loss: 0.7938 - accuracy: 0.6443 - val_loss: 0.8592 - val_accuracy: 0.6049\n",
            "Epoch 49/100\n",
            "70/72 [============================>.] - ETA: 0s - loss: 0.7989 - accuracy: 0.6433\n",
            "Epoch 49: val_accuracy did not improve from 0.60490\n",
            "72/72 [==============================] - 1s 13ms/step - loss: 0.7981 - accuracy: 0.6434 - val_loss: 0.8619 - val_accuracy: 0.5909\n",
            "Epoch 50/100\n",
            "70/72 [============================>.] - ETA: 0s - loss: 0.7973 - accuracy: 0.6487\n",
            "Epoch 50: val_accuracy did not improve from 0.60490\n",
            "72/72 [==============================] - 1s 14ms/step - loss: 0.7945 - accuracy: 0.6512 - val_loss: 0.8595 - val_accuracy: 0.6014\n",
            "Epoch 51/100\n",
            "69/72 [===========================>..] - ETA: 0s - loss: 0.7889 - accuracy: 0.6436\n",
            "Epoch 51: val_accuracy did not improve from 0.60490\n",
            "72/72 [==============================] - 1s 14ms/step - loss: 0.7910 - accuracy: 0.6425 - val_loss: 0.8718 - val_accuracy: 0.5769\n",
            "Epoch 52/100\n",
            "71/72 [============================>.] - ETA: 0s - loss: 0.7893 - accuracy: 0.6452\n",
            "Epoch 52: val_accuracy did not improve from 0.60490\n",
            "72/72 [==============================] - 1s 14ms/step - loss: 0.7882 - accuracy: 0.6464 - val_loss: 0.8660 - val_accuracy: 0.5874\n",
            "Epoch 53/100\n",
            "71/72 [============================>.] - ETA: 0s - loss: 0.7765 - accuracy: 0.6540\n",
            "Epoch 53: val_accuracy did not improve from 0.60490\n",
            "72/72 [==============================] - 1s 14ms/step - loss: 0.7779 - accuracy: 0.6526 - val_loss: 0.8679 - val_accuracy: 0.6049\n",
            "Epoch 54/100\n",
            "71/72 [============================>.] - ETA: 0s - loss: 0.7844 - accuracy: 0.6624\n",
            "Epoch 54: val_accuracy did not improve from 0.60490\n",
            "72/72 [==============================] - 1s 14ms/step - loss: 0.7825 - accuracy: 0.6635 - val_loss: 0.8649 - val_accuracy: 0.5944\n",
            "Epoch 55/100\n",
            "71/72 [============================>.] - ETA: 0s - loss: 0.7906 - accuracy: 0.6391\n",
            "Epoch 55: val_accuracy did not improve from 0.60490\n",
            "72/72 [==============================] - 1s 14ms/step - loss: 0.7920 - accuracy: 0.6386 - val_loss: 0.8595 - val_accuracy: 0.5944\n",
            "Epoch 56/100\n",
            "71/72 [============================>.] - ETA: 0s - loss: 0.7761 - accuracy: 0.6444\n",
            "Epoch 56: val_accuracy did not improve from 0.60490\n",
            "72/72 [==============================] - 1s 20ms/step - loss: 0.7764 - accuracy: 0.6443 - val_loss: 0.8529 - val_accuracy: 0.6014\n",
            "Epoch 57/100\n",
            "69/72 [===========================>..] - ETA: 0s - loss: 0.7779 - accuracy: 0.6472\n",
            "Epoch 57: val_accuracy improved from 0.60490 to 0.62238, saving model to /content/drive/MyDrive/Deep Learning/type_2.h5\n",
            "72/72 [==============================] - 2s 31ms/step - loss: 0.7785 - accuracy: 0.6478 - val_loss: 0.8548 - val_accuracy: 0.6224\n",
            "Epoch 58/100\n",
            "70/72 [============================>.] - ETA: 0s - loss: 0.7659 - accuracy: 0.6567\n",
            "Epoch 58: val_accuracy did not improve from 0.62238\n",
            "72/72 [==============================] - 1s 14ms/step - loss: 0.7691 - accuracy: 0.6539 - val_loss: 0.8607 - val_accuracy: 0.6119\n",
            "Epoch 59/100\n",
            "71/72 [============================>.] - ETA: 0s - loss: 0.7790 - accuracy: 0.6492\n",
            "Epoch 59: val_accuracy did not improve from 0.62238\n",
            "72/72 [==============================] - 1s 13ms/step - loss: 0.7789 - accuracy: 0.6499 - val_loss: 0.8574 - val_accuracy: 0.6084\n",
            "Epoch 60/100\n",
            "69/72 [===========================>..] - ETA: 0s - loss: 0.7676 - accuracy: 0.6680\n",
            "Epoch 60: val_accuracy did not improve from 0.62238\n",
            "72/72 [==============================] - 1s 14ms/step - loss: 0.7664 - accuracy: 0.6687 - val_loss: 0.8632 - val_accuracy: 0.6014\n",
            "Epoch 61/100\n",
            "71/72 [============================>.] - ETA: 0s - loss: 0.7670 - accuracy: 0.6576\n",
            "Epoch 61: val_accuracy did not improve from 0.62238\n",
            "72/72 [==============================] - 1s 14ms/step - loss: 0.7670 - accuracy: 0.6569 - val_loss: 0.8609 - val_accuracy: 0.5909\n",
            "Epoch 62/100\n",
            "70/72 [============================>.] - ETA: 0s - loss: 0.7558 - accuracy: 0.6795\n",
            "Epoch 62: val_accuracy did not improve from 0.62238\n",
            "72/72 [==============================] - 1s 15ms/step - loss: 0.7555 - accuracy: 0.6792 - val_loss: 0.8639 - val_accuracy: 0.6014\n",
            "Epoch 63/100\n",
            "71/72 [============================>.] - ETA: 0s - loss: 0.7560 - accuracy: 0.6646\n",
            "Epoch 63: val_accuracy did not improve from 0.62238\n",
            "72/72 [==============================] - 1s 16ms/step - loss: 0.7564 - accuracy: 0.6639 - val_loss: 0.8667 - val_accuracy: 0.5944\n",
            "Epoch 64/100\n",
            "72/72 [==============================] - ETA: 0s - loss: 0.7597 - accuracy: 0.6683\n",
            "Epoch 64: val_accuracy did not improve from 0.62238\n",
            "72/72 [==============================] - 1s 14ms/step - loss: 0.7597 - accuracy: 0.6683 - val_loss: 0.8596 - val_accuracy: 0.6049\n",
            "Epoch 65/100\n",
            "72/72 [==============================] - ETA: 0s - loss: 0.7440 - accuracy: 0.6665\n",
            "Epoch 65: val_accuracy did not improve from 0.62238\n",
            "72/72 [==============================] - 1s 15ms/step - loss: 0.7440 - accuracy: 0.6665 - val_loss: 0.8746 - val_accuracy: 0.5874\n",
            "Epoch 66/100\n",
            "72/72 [==============================] - ETA: 0s - loss: 0.7428 - accuracy: 0.6787\n",
            "Epoch 66: val_accuracy did not improve from 0.62238\n",
            "72/72 [==============================] - 1s 16ms/step - loss: 0.7428 - accuracy: 0.6787 - val_loss: 0.8699 - val_accuracy: 0.6224\n",
            "Epoch 67/100\n",
            "69/72 [===========================>..] - ETA: 0s - loss: 0.7546 - accuracy: 0.6726\n",
            "Epoch 67: val_accuracy did not improve from 0.62238\n",
            "72/72 [==============================] - 1s 21ms/step - loss: 0.7550 - accuracy: 0.6718 - val_loss: 0.8658 - val_accuracy: 0.6154\n",
            "Epoch 68/100\n",
            "72/72 [==============================] - ETA: 0s - loss: 0.7439 - accuracy: 0.6827\n",
            "Epoch 68: val_accuracy did not improve from 0.62238\n",
            "72/72 [==============================] - 1s 18ms/step - loss: 0.7439 - accuracy: 0.6827 - val_loss: 0.8605 - val_accuracy: 0.6189\n",
            "Epoch 69/100\n",
            "70/72 [============================>.] - ETA: 0s - loss: 0.7257 - accuracy: 0.6777\n",
            "Epoch 69: val_accuracy did not improve from 0.62238\n",
            "72/72 [==============================] - 1s 17ms/step - loss: 0.7265 - accuracy: 0.6766 - val_loss: 0.8605 - val_accuracy: 0.6049\n",
            "Epoch 70/100\n",
            "70/72 [============================>.] - ETA: 0s - loss: 0.7269 - accuracy: 0.6844\n",
            "Epoch 70: val_accuracy did not improve from 0.62238\n",
            "72/72 [==============================] - 1s 14ms/step - loss: 0.7277 - accuracy: 0.6849 - val_loss: 0.8728 - val_accuracy: 0.5909\n",
            "Epoch 71/100\n",
            "70/72 [============================>.] - ETA: 0s - loss: 0.7217 - accuracy: 0.6929\n",
            "Epoch 71: val_accuracy did not improve from 0.62238\n",
            "72/72 [==============================] - 1s 14ms/step - loss: 0.7209 - accuracy: 0.6949 - val_loss: 0.8697 - val_accuracy: 0.6084\n",
            "Epoch 72/100\n",
            "69/72 [===========================>..] - ETA: 0s - loss: 0.7307 - accuracy: 0.6934\n",
            "Epoch 72: val_accuracy did not improve from 0.62238\n",
            "72/72 [==============================] - 1s 14ms/step - loss: 0.7266 - accuracy: 0.6979 - val_loss: 0.8723 - val_accuracy: 0.5769\n",
            "Epoch 73/100\n",
            "72/72 [==============================] - ETA: 0s - loss: 0.7349 - accuracy: 0.6766\n",
            "Epoch 73: val_accuracy did not improve from 0.62238\n",
            "72/72 [==============================] - 1s 14ms/step - loss: 0.7349 - accuracy: 0.6766 - val_loss: 0.8622 - val_accuracy: 0.5944\n",
            "Epoch 74/100\n",
            "71/72 [============================>.] - ETA: 0s - loss: 0.7313 - accuracy: 0.6747\n",
            "Epoch 74: val_accuracy did not improve from 0.62238\n",
            "72/72 [==============================] - 1s 14ms/step - loss: 0.7316 - accuracy: 0.6753 - val_loss: 0.8654 - val_accuracy: 0.6049\n",
            "Epoch 75/100\n",
            "72/72 [==============================] - ETA: 0s - loss: 0.7236 - accuracy: 0.6914\n",
            "Epoch 75: val_accuracy improved from 0.62238 to 0.62587, saving model to /content/drive/MyDrive/Deep Learning/type_2.h5\n",
            "72/72 [==============================] - 4s 53ms/step - loss: 0.7236 - accuracy: 0.6914 - val_loss: 0.8636 - val_accuracy: 0.6259\n",
            "Epoch 76/100\n",
            "72/72 [==============================] - ETA: 0s - loss: 0.7195 - accuracy: 0.6888\n",
            "Epoch 76: val_accuracy did not improve from 0.62587\n",
            "72/72 [==============================] - 1s 16ms/step - loss: 0.7195 - accuracy: 0.6888 - val_loss: 0.8655 - val_accuracy: 0.6014\n",
            "Epoch 77/100\n",
            "72/72 [==============================] - ETA: 0s - loss: 0.7212 - accuracy: 0.6844\n",
            "Epoch 77: val_accuracy did not improve from 0.62587\n",
            "72/72 [==============================] - 1s 17ms/step - loss: 0.7212 - accuracy: 0.6844 - val_loss: 0.8697 - val_accuracy: 0.6014\n",
            "Epoch 78/100\n",
            "71/72 [============================>.] - ETA: 0s - loss: 0.7207 - accuracy: 0.6853\n",
            "Epoch 78: val_accuracy did not improve from 0.62587\n",
            "72/72 [==============================] - 1s 18ms/step - loss: 0.7190 - accuracy: 0.6862 - val_loss: 0.8686 - val_accuracy: 0.6119\n",
            "Epoch 79/100\n",
            "72/72 [==============================] - ETA: 0s - loss: 0.7178 - accuracy: 0.6883\n",
            "Epoch 79: val_accuracy improved from 0.62587 to 0.62937, saving model to /content/drive/MyDrive/Deep Learning/type_2.h5\n",
            "72/72 [==============================] - 2s 27ms/step - loss: 0.7178 - accuracy: 0.6883 - val_loss: 0.8724 - val_accuracy: 0.6294\n",
            "Epoch 80/100\n",
            "69/72 [===========================>..] - ETA: 0s - loss: 0.7128 - accuracy: 0.6866\n",
            "Epoch 80: val_accuracy did not improve from 0.62937\n",
            "72/72 [==============================] - 1s 14ms/step - loss: 0.7140 - accuracy: 0.6857 - val_loss: 0.8733 - val_accuracy: 0.6084\n",
            "Epoch 81/100\n",
            "69/72 [===========================>..] - ETA: 0s - loss: 0.7023 - accuracy: 0.6957\n",
            "Epoch 81: val_accuracy did not improve from 0.62937\n",
            "72/72 [==============================] - 1s 14ms/step - loss: 0.7032 - accuracy: 0.6962 - val_loss: 0.8722 - val_accuracy: 0.6119\n",
            "Epoch 82/100\n",
            "71/72 [============================>.] - ETA: 0s - loss: 0.6976 - accuracy: 0.6972\n",
            "Epoch 82: val_accuracy did not improve from 0.62937\n",
            "72/72 [==============================] - 1s 14ms/step - loss: 0.6964 - accuracy: 0.6975 - val_loss: 0.8815 - val_accuracy: 0.5909\n",
            "Epoch 83/100\n",
            "71/72 [============================>.] - ETA: 0s - loss: 0.7027 - accuracy: 0.6994\n",
            "Epoch 83: val_accuracy did not improve from 0.62937\n",
            "72/72 [==============================] - 1s 14ms/step - loss: 0.7044 - accuracy: 0.6975 - val_loss: 0.8734 - val_accuracy: 0.5979\n",
            "Epoch 84/100\n",
            "70/72 [============================>.] - ETA: 0s - loss: 0.6971 - accuracy: 0.7138\n",
            "Epoch 84: val_accuracy improved from 0.62937 to 0.63287, saving model to /content/drive/MyDrive/Deep Learning/type_2.h5\n",
            "72/72 [==============================] - 2s 26ms/step - loss: 0.7001 - accuracy: 0.7124 - val_loss: 0.8717 - val_accuracy: 0.6329\n",
            "Epoch 85/100\n",
            "69/72 [===========================>..] - ETA: 0s - loss: 0.6936 - accuracy: 0.7047\n",
            "Epoch 85: val_accuracy did not improve from 0.63287\n",
            "72/72 [==============================] - 1s 14ms/step - loss: 0.6926 - accuracy: 0.7036 - val_loss: 0.8722 - val_accuracy: 0.6014\n",
            "Epoch 86/100\n",
            "71/72 [============================>.] - ETA: 0s - loss: 0.7043 - accuracy: 0.6941\n",
            "Epoch 86: val_accuracy did not improve from 0.63287\n",
            "72/72 [==============================] - 1s 13ms/step - loss: 0.7054 - accuracy: 0.6931 - val_loss: 0.8796 - val_accuracy: 0.6084\n",
            "Epoch 87/100\n",
            "69/72 [===========================>..] - ETA: 0s - loss: 0.6852 - accuracy: 0.7206\n",
            "Epoch 87: val_accuracy improved from 0.63287 to 0.63986, saving model to /content/drive/MyDrive/Deep Learning/type_2.h5\n",
            "72/72 [==============================] - 2s 30ms/step - loss: 0.6836 - accuracy: 0.7220 - val_loss: 0.8751 - val_accuracy: 0.6399\n",
            "Epoch 88/100\n",
            "72/72 [==============================] - ETA: 0s - loss: 0.6835 - accuracy: 0.7180\n",
            "Epoch 88: val_accuracy did not improve from 0.63986\n",
            "72/72 [==============================] - 1s 17ms/step - loss: 0.6835 - accuracy: 0.7180 - val_loss: 0.8784 - val_accuracy: 0.5979\n",
            "Epoch 89/100\n",
            "70/72 [============================>.] - ETA: 0s - loss: 0.6782 - accuracy: 0.7089\n",
            "Epoch 89: val_accuracy did not improve from 0.63986\n",
            "72/72 [==============================] - 1s 16ms/step - loss: 0.6763 - accuracy: 0.7097 - val_loss: 0.8792 - val_accuracy: 0.6189\n",
            "Epoch 90/100\n",
            "69/72 [===========================>..] - ETA: 0s - loss: 0.6788 - accuracy: 0.7106\n",
            "Epoch 90: val_accuracy did not improve from 0.63986\n",
            "72/72 [==============================] - 1s 14ms/step - loss: 0.6788 - accuracy: 0.7080 - val_loss: 0.8736 - val_accuracy: 0.5979\n",
            "Epoch 91/100\n",
            "70/72 [============================>.] - ETA: 0s - loss: 0.6847 - accuracy: 0.7040\n",
            "Epoch 91: val_accuracy did not improve from 0.63986\n",
            "72/72 [==============================] - 1s 14ms/step - loss: 0.6842 - accuracy: 0.7049 - val_loss: 0.8798 - val_accuracy: 0.6049\n",
            "Epoch 92/100\n",
            "72/72 [==============================] - ETA: 0s - loss: 0.6680 - accuracy: 0.7132\n",
            "Epoch 92: val_accuracy did not improve from 0.63986\n",
            "72/72 [==============================] - 1s 14ms/step - loss: 0.6680 - accuracy: 0.7132 - val_loss: 0.8751 - val_accuracy: 0.6084\n",
            "Epoch 93/100\n",
            "72/72 [==============================] - ETA: 0s - loss: 0.6633 - accuracy: 0.7093\n",
            "Epoch 93: val_accuracy did not improve from 0.63986\n",
            "72/72 [==============================] - 1s 14ms/step - loss: 0.6633 - accuracy: 0.7093 - val_loss: 0.8803 - val_accuracy: 0.6329\n",
            "Epoch 94/100\n",
            "69/72 [===========================>..] - ETA: 0s - loss: 0.6565 - accuracy: 0.7219\n",
            "Epoch 94: val_accuracy did not improve from 0.63986\n",
            "72/72 [==============================] - 1s 14ms/step - loss: 0.6587 - accuracy: 0.7215 - val_loss: 0.8884 - val_accuracy: 0.6014\n",
            "Epoch 95/100\n",
            "70/72 [============================>.] - ETA: 0s - loss: 0.6636 - accuracy: 0.7192\n",
            "Epoch 95: val_accuracy did not improve from 0.63986\n",
            "72/72 [==============================] - 1s 14ms/step - loss: 0.6645 - accuracy: 0.7193 - val_loss: 0.8893 - val_accuracy: 0.6154\n",
            "Epoch 96/100\n",
            "69/72 [===========================>..] - ETA: 0s - loss: 0.6542 - accuracy: 0.7178\n",
            "Epoch 96: val_accuracy did not improve from 0.63986\n",
            "72/72 [==============================] - 1s 14ms/step - loss: 0.6587 - accuracy: 0.7167 - val_loss: 0.9021 - val_accuracy: 0.5804\n",
            "Epoch 97/100\n",
            "72/72 [==============================] - ETA: 0s - loss: 0.6367 - accuracy: 0.7298\n",
            "Epoch 97: val_accuracy did not improve from 0.63986\n",
            "72/72 [==============================] - 1s 16ms/step - loss: 0.6367 - accuracy: 0.7298 - val_loss: 0.8931 - val_accuracy: 0.6049\n",
            "Epoch 98/100\n",
            "71/72 [============================>.] - ETA: 0s - loss: 0.6620 - accuracy: 0.7095\n",
            "Epoch 98: val_accuracy did not improve from 0.63986\n",
            "72/72 [==============================] - 1s 16ms/step - loss: 0.6625 - accuracy: 0.7106 - val_loss: 0.8937 - val_accuracy: 0.6049\n",
            "Epoch 99/100\n",
            "69/72 [===========================>..] - ETA: 0s - loss: 0.6472 - accuracy: 0.7428\n",
            "Epoch 99: val_accuracy did not improve from 0.63986\n",
            "72/72 [==============================] - 1s 16ms/step - loss: 0.6467 - accuracy: 0.7438 - val_loss: 0.8907 - val_accuracy: 0.6119\n",
            "Epoch 100/100\n",
            "69/72 [===========================>..] - ETA: 0s - loss: 0.6694 - accuracy: 0.7255\n",
            "Epoch 100: val_accuracy did not improve from 0.63986\n",
            "72/72 [==============================] - 1s 17ms/step - loss: 0.6652 - accuracy: 0.7263 - val_loss: 0.8889 - val_accuracy: 0.5944\n"
          ]
        },
        {
          "output_type": "display_data",
          "data": {
            "text/plain": [
              "<Figure size 640x480 with 1 Axes>"
            ],
            "image/png": "[encoded data removed]"
          },
          "metadata": {}
        },
        {
          "output_type": "display_data",
          "data": {
            "text/plain": [
              "<Figure size 640x480 with 1 Axes>"
            ],
            "image/png": "[encoded data removed]"
          },
          "metadata": {}
        }
      ]
    },
    {
      "cell_type": "code",
      "source": [
        "best_model = keras.models.load_model(checkpoint_filepath)\n",
        "\n",
        "# Evaluate the best model on test data\n",
        "test_loss, test_accuracy = best_model.evaluate([X_test_text, X_test_reply], y_test_encoded, batch_size=16)\n",
        "print(\"Test Loss:\", test_loss)\n",
        "print(\"Test Accuracy:\", test_accuracy)"
      ],
      "metadata": {
        "colab": {
          "base_uri": "https://localhost:8080/"
        },
        "id": "stD93xeKdboO",
        "outputId": "281348dd-da06-4645-e92f-61ec1d27cd14"
      },
      "execution_count": null,
      "outputs": [
        {
          "output_type": "stream",
          "name": "stdout",
          "text": [
            "18/18 [==============================] - 1s 6ms/step - loss: 0.9083 - accuracy: 0.6132\n",
            "Test Loss: 0.9083205461502075\n",
            "Test Accuracy: 0.6132404208183289\n"
          ]
        }
      ]
    },
    {
      "cell_type": "markdown",
      "source": [],
      "metadata": {
        "id": "o0_36gAw5VkO"
      }
    }
  ],
  "metadata": {
    "accelerator": "GPU",
    "colab": {
      "gpuType": "T4",
      "provenance": [],
      "include_colab_link": true
    },
    "kernelspec": {
      "display_name": "Python 3",
      "name": "python3"
    },
    "language_info": {
      "name": "python"
    }
  },
  "nbformat": 4,
  "nbformat_minor": 0
}